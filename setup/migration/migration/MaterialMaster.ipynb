{
 "cells": [
  {
   "cell_type": "code",
   "execution_count": 1,
   "metadata": {},
   "outputs": [],
   "source": [
    "#sudo pip install ibm_db\n",
    "import ibm_db\n",
    "# conda install -c conda-forge ibm_db\n",
    "\n",
    "import pandas as pd\n",
    "import numpy as np\n",
    "import psycopg2\n",
    "# conda install -c anaconda psycopg2\n",
    "import sqlalchemy\n",
    "# conda install -c anaconda sqlalchemy\n",
    "import matplotlib as plt\n",
    "import requests\n",
    "# conda install -c anaconda requests\n",
    "from requests.auth import HTTPDigestAuth\n",
    "import json\n",
    "# conda install -c jmcmurray json\n",
    "import urllib.request\n",
    "import urllib.parse\n",
    "# conda install -c anaconda zlib\n",
    "import sys\n",
    "import asyncio\n",
    "\n",
    "from sqlalchemy import create_engine\n",
    "\n",
    "import ibm_db_sa\n",
    "# conda install -c auto ibm_db_sa\n",
    "# pip install ibm-db-sa\n",
    "\n",
    "import ibm_db_dbi\n",
    "\n",
    "import logging\n",
    "\n",
    "import datetime\n",
    "\n",
    "from my_functions import *"
   ]
  },
  {
   "cell_type": "code",
   "execution_count": 2,
   "metadata": {},
   "outputs": [],
   "source": [
    "logging.basicConfig(filename='logs.log',level=logging.DEBUG)\n",
    "\n",
    "\n",
    "POSTGRES_ADDRESS = 'localhost'\n",
    "POSTGRES_PORT = '5432'\n",
    "POSTGRES_USERNAME = 'ebreshna_user'\n",
    "POSTGRES_PASSWORD = 'secret'\n",
    "POSTGRES_DBNAME = 'ebreshna_test'\n",
    "postgres_str = ('postgresql://{username}:{password}@{ipaddress}:{port}/{dbname}'.format(username=POSTGRES_USERNAME, password=POSTGRES_PASSWORD, ipaddress=POSTGRES_ADDRESS, port=POSTGRES_PORT, dbname=POSTGRES_DBNAME))\n",
    "# conn = psycopg2.connect(\"host=localhost dbname=asims_test user=asims_user password=secret port=5432\")\n",
    "# cur = conn.cursor()\n",
    "psql_engine = create_engine(postgres_str)\n",
    "\n",
    "# SQL SERVER CONNECTION\n",
    "DB2_ADDRESS = '10.10.100.47'\n",
    "DB2_PORT = '53000'\n",
    "DB2_USERNAME = 'db2inst1'\n",
    "DB2_PASSWORD = 'db2inst1'\n",
    "DB2_DBNAME = 'mpower'\n",
    "# db2_engine = create_engine('ibm_db_sa+pyodbc:///?odbc_connect={}'.format(quoted))\n",
    "# db2_engine = create_engine(\"db2+ibm_db://user:pass@10.10.100.47:51000/mpower\")\n",
    "# conn = ibm_db.connect(\"DATABASE=mpower;HOSTNAME=host;PORT=50000;PROTOCOL=TCPIP;UID=username;PWD=password;\", \"\", \"\")\n",
    "db2_conn = ibm_db.connect(\"DRIVER={{IBM DB2 ODBC DRIVER}};DATABASE=mpower;HOSTNAME=10.10.100.47;PORT=53000;PROTOCOL=TCPIP;UID=db2inst1;PWD=db2inst1;\", \"\", \"\")\n",
    "# this is required to enable database access through Pandas\n",
    "db2_conni =  ibm_db_dbi.connect(u\"DRIVER={{IBM DB2 ODBC DRIVER}};DATABASE=mpower;HOSTNAME=10.10.100.47;PORT=53000;PROTOCOL=TCPIP;UID=db2inst1;PWD=db2inst1;\")"
   ]
  },
  {
   "cell_type": "code",
   "execution_count": 3,
   "metadata": {},
   "outputs": [
    {
     "name": "stdout",
     "output_type": "stream",
     "text": [
      "Total Migrated Records (nctmaterials_m): Total Src Records: 0 Total migrated Records to dest: 0\n"
     ]
    }
   ],
   "source": [
    "# Region\n",
    "cols_map = [\n",
    "    {'src_col': 'ID', 'des_col': 'id', 'src_dtype': 'String', 'des_dtype': 'String'},\n",
    "    {'src_col': 'NAME', 'des_col': 'name', 'src_dtype': 'String', 'des_dtype': 'String'},\n",
    "    {'src_col': 'TYPE', 'des_col': 'type', 'src_dtype': 'String', 'des_dtype': 'String'},\n",
    "    {'src_col': 'RATE', 'des_col': 'rate', 'src_dtype': 'DECIMAL', 'des_dtype': 'numeric'},\n",
    "    {'src_col': 'CREATED_BY', 'des_col': 'created_by', 'src_dtype': 'String', 'des_dtype': 'String'},\n",
    "    {'src_col': 'CREATE_DATE', 'des_col': 'created_date', 'src_dtype': 'TIMESTAMP', 'des_dtype': 'TIMESTAMP'},\n",
    "    {'src_col': 'UPDATED_BY', 'des_col': 'updated_by', 'src_dtype': 'String', 'des_dtype': 'String'},\n",
    "    {'src_col': 'UPDATE_DATE', 'des_col': 'updated_date', 'src_dtype': 'TIMESTAMP', 'des_dtype': 'TIMESTAMP'},\n",
    "    {'src_col': 'DB_IP_ADDRESS', 'des_col': 'db_ip_address', 'src_dtype': 'String', 'des_dtype': 'String'},\n",
    "    {'src_col': 'SOURCE_OFFICE_ID', 'des_col': 'source_office_id', 'src_dtype': 'String', 'des_dtype': 'String'},\n",
    "    {'src_col': 'TARGET_OFFICE_ID', 'des_col': 'target_office_id', 'src_dtype': 'String', 'des_dtype': 'String'},\n",
    "    {'src_col': 'RECORD_STATUS', 'des_col': 'record_status', 'src_dtype': 'String', 'des_dtype': 'String'},\n",
    "    {'src_col': 'SCREEN_ID', 'des_col': 'screen_id', 'src_dtype': 'String', 'des_dtype': 'String'},\n",
    "    {'src_col': 'MONTH', 'des_col': 'month', 'src_dtype': 'DECFLOAT', 'des_dtype': 'String'},\n",
    "    {'src_col': 'YEAR', 'des_col': 'year', 'src_dtype': 'DECFLOAT', 'des_dtype': 'String'},\n",
    "    {'src_col': 'FLAG1', 'des_col': 'flag1', 'src_dtype': 'String', 'des_dtype': 'String'},\n",
    "    {'src_col': 'FLAG2', 'des_col': 'flag2', 'src_dtype': 'String', 'des_dtype': 'String'},\n",
    "    {'src_col': 'FLAG3', 'des_col': 'flag3', 'src_dtype': 'String', 'des_dtype': 'String'},\n",
    "    {'src_col': 'FLAG4', 'des_col': 'flag4', 'src_dtype': 'String', 'des_dtype': 'String'},\n",
    "    {'src_col': 'FLAG5', 'des_col': 'flag5', 'src_dtype': 'String', 'des_dtype': 'String'},\n",
    "    {'src_col': 'CHECK_CONDITION', 'des_col': 'check_condition', 'src_dtype': 'String', 'des_dtype': 'String'},\n",
    "    {'src_col': 'MODULE_ID', 'des_col': 'module_id', 'src_dtype': 'String', 'des_dtype': 'String'},\n",
    "    {'src_col': 'SUBMODULE_ID', 'des_col': 'submodule_id', 'src_dtype': 'String', 'des_dtype': 'String'},\n",
    "    \n",
    "]\n",
    "\n",
    "migrated_row_count = migrate_data(db2_conni, psql_engine, 'DABS    .NCTMATERIALS_M', 'public', 'nctmaterials_m', cols_map)\n",
    "print(\"Total Migrated Records (nctmaterials_m): \" + str(migrated_row_count))\n"
   ]
  },
  {
   "cell_type": "code",
   "execution_count": null,
   "metadata": {},
   "outputs": [],
   "source": []
  }
 ],
 "metadata": {
  "kernelspec": {
   "display_name": "Python 3",
   "language": "python",
   "name": "python3"
  },
  "language_info": {
   "codemirror_mode": {
    "name": "ipython",
    "version": 3
   },
   "file_extension": ".py",
   "mimetype": "text/x-python",
   "name": "python",
   "nbconvert_exporter": "python",
   "pygments_lexer": "ipython3",
   "version": "3.7.6"
  }
 },
 "nbformat": 4,
 "nbformat_minor": 4
}
