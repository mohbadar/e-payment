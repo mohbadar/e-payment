{
 "cells": [
  {
   "cell_type": "code",
   "execution_count": null,
   "metadata": {},
   "outputs": [],
   "source": [
    "#sudo pip install ibm_db\n",
    "import ibm_db\n",
    "# conda install -c conda-forge ibm_db\n",
    "\n",
    "import pandas as pd\n",
    "import numpy as np\n",
    "import psycopg2\n",
    "# conda install -c anaconda psycopg2\n",
    "import sqlalchemy\n",
    "# conda install -c anaconda sqlalchemy\n",
    "import matplotlib as plt\n",
    "import requests\n",
    "# conda install -c anaconda requests\n",
    "from requests.auth import HTTPDigestAuth\n",
    "import json\n",
    "# conda install -c jmcmurray json\n",
    "import urllib.request\n",
    "import urllib.parse\n",
    "# conda install -c anaconda zlib\n",
    "import sys\n",
    "import asyncio\n",
    "\n",
    "from sqlalchemy import create_engine\n",
    "\n",
    "import ibm_db_sa\n",
    "# conda install -c auto ibm_db_sa\n",
    "# pip install ibm-db-sa\n",
    "\n",
    "import ibm_db_dbi\n",
    "\n",
    "import logging\n",
    "\n",
    "import datetime\n",
    "\n",
    "from my_functions import *"
   ]
  }
 ],
 "metadata": {
  "kernelspec": {
   "display_name": "Python 3",
   "language": "python",
   "name": "python3"
  },
  "language_info": {
   "codemirror_mode": {
    "name": "ipython",
    "version": 3
   },
   "file_extension": ".py",
   "mimetype": "text/x-python",
   "name": "python",
   "nbconvert_exporter": "python",
   "pygments_lexer": "ipython3",
   "version": "3.7.7"
  }
 },
 "nbformat": 4,
 "nbformat_minor": 4
}
