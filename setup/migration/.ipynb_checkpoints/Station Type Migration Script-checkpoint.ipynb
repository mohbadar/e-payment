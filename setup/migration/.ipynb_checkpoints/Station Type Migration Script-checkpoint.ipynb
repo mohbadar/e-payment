{
 "cells": [
  {
   "cell_type": "code",
   "execution_count": 1,
   "metadata": {},
   "outputs": [],
   "source": [
    "#sudo pip install ibm_db\n",
    "from ibm_db import connect\n",
    "\n",
    "import pandas as pd\n",
    "import numpy as np\n",
    "import psycopg2\n",
    "# conda install -c anaconda psycopg2\n",
    "import sqlalchemy\n",
    "# conda install -c anaconda sqlalchemy\n",
    "import matplotlib as plt\n",
    "import requests\n",
    "# conda install -c anaconda requests\n",
    "from requests.auth import HTTPDigestAuth\n",
    "import json\n",
    "# conda install -c jmcmurray json\n",
    "import urllib.request\n",
    "import urllib.parse\n",
    "# conda install -c anaconda zlib\n",
    "import sys\n",
    "import asyncio\n",
    "\n",
    "from sqlalchemy import create_engine\n",
    "\n",
    "#conda install -c anaconda pyodbc\n",
    "import pyodbc\n"
   ]
  },
  {
   "cell_type": "code",
   "execution_count": 3,
   "metadata": {},
   "outputs": [
    {
     "ename": "SyntaxError",
     "evalue": "EOL while scanning string literal (<ipython-input-3-f5955c614fbf>, line 2)",
     "output_type": "error",
     "traceback": [
      "\u001b[0;36m  File \u001b[0;32m\"<ipython-input-3-f5955c614fbf>\"\u001b[0;36m, line \u001b[0;32m2\u001b[0m\n\u001b[0;31m    ibm_db.connect(\"DATABASE=name;HOSTNAME=host;PORT=60000;PROTOCOL=TCPIP;UID=username;\u001b[0m\n\u001b[0m                                                                                       ^\u001b[0m\n\u001b[0;31mSyntaxError\u001b[0m\u001b[0;31m:\u001b[0m EOL while scanning string literal\n"
     ]
    }
   ],
   "source": [
    "import ibm_db\n",
    "ibm_db.connect(\"DATABASE=mpower;HOSTNAME=host;PORT=50000;PROTOCOL=TCPIP;UID=username;\n",
    "                PWD=password;\", \"\", \"\")"
   ]
  },
  {
   "cell_type": "code",
   "execution_count": 4,
   "metadata": {},
   "outputs": [],
   "source": [
    "#from ibm_db import connect\n",
    "# Careful with the punctuation here - we have 3 arguments.\n",
    "# The first is a big string with semicolons in it.\n",
    "# (Strings separated by only whitespace, newlines included,\n",
    "#  are automatically joined together, in case you didn't know.)\n",
    "# The last two are emptry strings.\n",
    "#connection = connect('DATABASE=<database name>;'\n",
    "#                     'HOSTNAME=<database ip>;'  # 127.0.0.1 or localhost works if it's local\n",
    "#                     'PORT=<database port>;'\n",
    "#                     'PROTOCOL=TCPIP;'\n",
    "#                     'UID=<database username>;'\n",
    "#                     'PWD=<username password>;', '', '')"
   ]
  },
  {
   "cell_type": "markdown",
   "metadata": {},
   "source": [
    "ibm_db never actually give us results. Instead, we need to call one of the fetch methods on the command, repeatedly, to get the results this helper function to deal with that."
   ]
  },
  {
   "cell_type": "code",
   "execution_count": 5,
   "metadata": {},
   "outputs": [],
   "source": [
    "def fetch_db2_results(command):\n",
    "    from ibm_db import fetch_assoc\n",
    "\n",
    "    ret = []\n",
    "    result = fetch_assoc(command)\n",
    "    while result:\n",
    "        # This builds a list in memory. Theoretically, if there's a lot of rows,\n",
    "        # we could run out of memory. In practice, I've never had that happen.\n",
    "        # If it's ever a problem, you could use\n",
    "        #     yield result\n",
    "        # Then this function would become a generator. You lose the ability to access\n",
    "        # results by index or slice them or whatever, but you retain\n",
    "        # the ability to iterate on them.\n",
    "        ret.append(result)\n",
    "        result = fetch_assoc(command)\n",
    "    return ret  # Ditch this line if you choose to use a generator."
   ]
  },
  {
   "cell_type": "markdown",
   "metadata": {},
   "source": [
    "we can easily do something like get the information on all the tables in your database with the following:"
   ]
  },
  {
   "cell_type": "code",
   "execution_count": 6,
   "metadata": {},
   "outputs": [
    {
     "ename": "NameError",
     "evalue": "name 'connection' is not defined",
     "output_type": "error",
     "traceback": [
      "\u001b[0;31m---------------------------------------------------------------------------\u001b[0m",
      "\u001b[0;31mNameError\u001b[0m                                 Traceback (most recent call last)",
      "\u001b[0;32m<ipython-input-6-a04dc3ea47c0>\u001b[0m in \u001b[0;36m<module>\u001b[0;34m()\u001b[0m\n\u001b[1;32m      1\u001b[0m \u001b[0;32mfrom\u001b[0m \u001b[0mibm_db\u001b[0m \u001b[0;32mimport\u001b[0m \u001b[0mtables\u001b[0m\u001b[0;34m\u001b[0m\u001b[0;34m\u001b[0m\u001b[0m\n\u001b[1;32m      2\u001b[0m \u001b[0;34m\u001b[0m\u001b[0m\n\u001b[0;32m----> 3\u001b[0;31m \u001b[0mt\u001b[0m \u001b[0;34m=\u001b[0m \u001b[0mresults\u001b[0m\u001b[0;34m(\u001b[0m\u001b[0mtables\u001b[0m\u001b[0;34m(\u001b[0m\u001b[0mconnection\u001b[0m\u001b[0;34m)\u001b[0m\u001b[0;34m)\u001b[0m\u001b[0;34m\u001b[0m\u001b[0;34m\u001b[0m\u001b[0m\n\u001b[0m",
      "\u001b[0;31mNameError\u001b[0m: name 'connection' is not defined"
     ]
    }
   ],
   "source": [
    "from ibm_db import tables\n",
    "\n",
    "t = fetch_db2_results(tables(connection))"
   ]
  },
  {
   "cell_type": "markdown",
   "metadata": {},
   "source": [
    "Execute a sql command on DB2"
   ]
  },
  {
   "cell_type": "code",
   "execution_count": 7,
   "metadata": {},
   "outputs": [
    {
     "ename": "NameError",
     "evalue": "name 't' is not defined",
     "output_type": "error",
     "traceback": [
      "\u001b[0;31m---------------------------------------------------------------------------\u001b[0m",
      "\u001b[0;31mNameError\u001b[0m                                 Traceback (most recent call last)",
      "\u001b[0;32m<ipython-input-7-ac175aa4e99c>\u001b[0m in \u001b[0;36m<module>\u001b[0;34m()\u001b[0m\n\u001b[1;32m      1\u001b[0m \u001b[0;32mfrom\u001b[0m \u001b[0mibm_db\u001b[0m \u001b[0;32mimport\u001b[0m \u001b[0mexec_immediate\u001b[0m\u001b[0;34m\u001b[0m\u001b[0;34m\u001b[0m\u001b[0m\n\u001b[1;32m      2\u001b[0m \u001b[0;34m\u001b[0m\u001b[0m\n\u001b[0;32m----> 3\u001b[0;31m \u001b[0msql\u001b[0m \u001b[0;34m=\u001b[0m \u001b[0;34m'LIST * FROM '\u001b[0m \u001b[0;34m+\u001b[0m \u001b[0mt\u001b[0m\u001b[0;34m[\u001b[0m\u001b[0;36m170\u001b[0m\u001b[0;34m]\u001b[0m\u001b[0;34m[\u001b[0m\u001b[0;34m'TABLE_NAME'\u001b[0m\u001b[0;34m]\u001b[0m  \u001b[0;31m# Using our list of tables t from before...\u001b[0m\u001b[0;34m\u001b[0m\u001b[0;34m\u001b[0m\u001b[0m\n\u001b[0m\u001b[1;32m      4\u001b[0m \u001b[0mrows\u001b[0m \u001b[0;34m=\u001b[0m \u001b[0mresults\u001b[0m\u001b[0;34m(\u001b[0m\u001b[0mexec_immediate\u001b[0m\u001b[0;34m(\u001b[0m\u001b[0mconnection\u001b[0m\u001b[0;34m,\u001b[0m \u001b[0msql\u001b[0m\u001b[0;34m)\u001b[0m\u001b[0;34m)\u001b[0m\u001b[0;34m\u001b[0m\u001b[0;34m\u001b[0m\u001b[0m\n",
      "\u001b[0;31mNameError\u001b[0m: name 't' is not defined"
     ]
    }
   ],
   "source": [
    "from ibm_db import exec_immediate\n",
    "\n",
    "sql = 'LIST * FROM ' + t[170]['TABLE_NAME']  # Using our list of tables t from before...\n",
    "rows = fetch_db2_results(exec_immediate(connection, sql))"
   ]
  },
  {
   "cell_type": "code",
   "execution_count": null,
   "metadata": {},
   "outputs": [],
   "source": []
  }
 ],
 "metadata": {
  "kernelspec": {
   "display_name": "Python [default]",
   "language": "python",
   "name": "python3"
  },
  "language_info": {
   "codemirror_mode": {
    "name": "ipython",
    "version": 3
   },
   "file_extension": ".py",
   "mimetype": "text/x-python",
   "name": "python",
   "nbconvert_exporter": "python",
   "pygments_lexer": "ipython3",
   "version": "3.6.7"
  }
 },
 "nbformat": 4,
 "nbformat_minor": 2
}
